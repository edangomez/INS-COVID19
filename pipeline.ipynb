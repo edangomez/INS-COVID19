{
 "cells": [
  {
   "cell_type": "code",
   "execution_count": 2,
   "metadata": {},
   "outputs": [],
   "source": [
    "import os\n",
    "import numpy as np\n",
    "import shutil\n",
    "import glob\n",
    "import csv\n",
    "import cv2 as cv\n",
    "import nibabel as nib\n",
    "import matplotlib.pyplot as plt\n",
    "from genericpath import exists\n",
    "from typing import Sized\n",
    "from matplotlib.figure import Figure\n",
    "import json\n",
    "from PIL import Image\n",
    "import pandas as pd\n",
    "from skimage import color\n",
    "from skimage import io\n",
    "from scipy.signal import correlate\n",
    "from scipy.stats import multivariate_normal\n",
    "import pandas as pd\n",
    "from scipy.stats import kurtosis, skew, entropy, median_absolute_deviation\n",
    "import warnings\n",
    "import scipy.optimize\n",
    "import seaborn as sns\n",
    "warnings.filterwarnings('ignore')\n",
    "from sklearn.model_selection import train_test_split"
   ]
  },
  {
   "cell_type": "code",
   "execution_count": null,
   "metadata": {},
   "outputs": [],
   "source": []
  }
 ],
 "metadata": {
  "kernelspec": {
   "display_name": "Python 3.8.5 ('6.86x')",
   "language": "python",
   "name": "python3"
  },
  "language_info": {
   "codemirror_mode": {
    "name": "ipython",
    "version": 3
   },
   "file_extension": ".py",
   "mimetype": "text/x-python",
   "name": "python",
   "nbconvert_exporter": "python",
   "pygments_lexer": "ipython3",
   "version": "3.8.5"
  },
  "orig_nbformat": 4,
  "vscode": {
   "interpreter": {
    "hash": "1a5d135ed4a1b475b41bf6bb819d6647e36fa7b34ed7f8a72c5280955ee30ae9"
   }
  }
 },
 "nbformat": 4,
 "nbformat_minor": 2
}
