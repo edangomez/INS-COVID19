{
 "cells": [
  {
   "cell_type": "code",
   "execution_count": 1,
   "metadata": {},
   "outputs": [],
   "source": [
    "import os\n",
    "import numpy as np\n",
    "import shutil\n",
    "import glob\n",
    "import csv\n",
    "import cv2 as cv\n",
    "import nibabel as nib\n",
    "import matplotlib.pyplot as plt\n",
    "from genericpath import exists\n",
    "from typing import Sized\n",
    "from matplotlib.figure import Figure\n",
    "import json\n",
    "from PIL import Image\n",
    "import pandas as pd\n",
    "from skimage import color\n",
    "from skimage import io\n",
    "from scipy.signal import correlate\n",
    "from scipy.stats import multivariate_normal\n",
    "import pandas as pd\n",
    "from scipy.stats import kurtosis, skew, entropy, median_absolute_deviation\n",
    "import warnings\n",
    "import scipy.optimize\n",
    "import seaborn as sns\n",
    "warnings.filterwarnings('ignore')\n",
    "from sklearn.model_selection import train_test_split"
   ]
  },
  {
   "cell_type": "markdown",
   "metadata": {},
   "source": [
    "# Data Loading"
   ]
  },
  {
   "cell_type": "code",
   "execution_count": 2,
   "metadata": {},
   "outputs": [
    {
     "data": {
      "text/html": [
       "<div>\n",
       "<style scoped>\n",
       "    .dataframe tbody tr th:only-of-type {\n",
       "        vertical-align: middle;\n",
       "    }\n",
       "\n",
       "    .dataframe tbody tr th {\n",
       "        vertical-align: top;\n",
       "    }\n",
       "\n",
       "    .dataframe thead th {\n",
       "        text-align: right;\n",
       "    }\n",
       "</style>\n",
       "<table border=\"1\" class=\"dataframe\">\n",
       "  <thead>\n",
       "    <tr style=\"text-align: right;\">\n",
       "      <th></th>\n",
       "      <th>fecha reporte web</th>\n",
       "      <th>ID de caso</th>\n",
       "      <th>Fecha de notificación</th>\n",
       "      <th>Código DIVIPOLA departamento</th>\n",
       "      <th>Nombre departamento</th>\n",
       "      <th>Código DIVIPOLA municipio</th>\n",
       "      <th>Nombre municipio</th>\n",
       "      <th>Edad</th>\n",
       "      <th>Unidad de medida de edad</th>\n",
       "      <th>Sexo</th>\n",
       "      <th>...</th>\n",
       "      <th>Código ISO del país</th>\n",
       "      <th>Nombre del país</th>\n",
       "      <th>Recuperado</th>\n",
       "      <th>Fecha de inicio de síntomas</th>\n",
       "      <th>Fecha de muerte</th>\n",
       "      <th>Fecha de diagnóstico</th>\n",
       "      <th>Fecha de recuperación</th>\n",
       "      <th>Tipo de recuperación</th>\n",
       "      <th>Pertenencia étnica</th>\n",
       "      <th>Nombre del grupo étnico</th>\n",
       "    </tr>\n",
       "  </thead>\n",
       "  <tbody>\n",
       "    <tr>\n",
       "      <th>0</th>\n",
       "      <td>2021-03-04 00:00:00</td>\n",
       "      <td>2265685</td>\n",
       "      <td>2021-03-02 00:00:00</td>\n",
       "      <td>11</td>\n",
       "      <td>BOGOTA</td>\n",
       "      <td>11001</td>\n",
       "      <td>BOGOTA</td>\n",
       "      <td>49</td>\n",
       "      <td>1</td>\n",
       "      <td>M</td>\n",
       "      <td>...</td>\n",
       "      <td>NaN</td>\n",
       "      <td>NaN</td>\n",
       "      <td>Recuperado</td>\n",
       "      <td>2021-02-25 00:00:00</td>\n",
       "      <td>NaN</td>\n",
       "      <td>2021-03-03 00:00:00</td>\n",
       "      <td>2021-03-16 00:00:00</td>\n",
       "      <td>Tiempo</td>\n",
       "      <td>6.0</td>\n",
       "      <td>NaN</td>\n",
       "    </tr>\n",
       "    <tr>\n",
       "      <th>1</th>\n",
       "      <td>2021-03-04 00:00:00</td>\n",
       "      <td>2265686</td>\n",
       "      <td>2021-03-02 00:00:00</td>\n",
       "      <td>11</td>\n",
       "      <td>BOGOTA</td>\n",
       "      <td>11001</td>\n",
       "      <td>BOGOTA</td>\n",
       "      <td>49</td>\n",
       "      <td>1</td>\n",
       "      <td>M</td>\n",
       "      <td>...</td>\n",
       "      <td>NaN</td>\n",
       "      <td>NaN</td>\n",
       "      <td>Recuperado</td>\n",
       "      <td>2021-02-23 00:00:00</td>\n",
       "      <td>NaN</td>\n",
       "      <td>2021-03-03 00:00:00</td>\n",
       "      <td>2021-03-16 00:00:00</td>\n",
       "      <td>Tiempo</td>\n",
       "      <td>6.0</td>\n",
       "      <td>NaN</td>\n",
       "    </tr>\n",
       "    <tr>\n",
       "      <th>2</th>\n",
       "      <td>2021-03-04 00:00:00</td>\n",
       "      <td>2265687</td>\n",
       "      <td>2021-03-02 00:00:00</td>\n",
       "      <td>11</td>\n",
       "      <td>BOGOTA</td>\n",
       "      <td>11001</td>\n",
       "      <td>BOGOTA</td>\n",
       "      <td>51</td>\n",
       "      <td>1</td>\n",
       "      <td>F</td>\n",
       "      <td>...</td>\n",
       "      <td>NaN</td>\n",
       "      <td>NaN</td>\n",
       "      <td>Recuperado</td>\n",
       "      <td>2021-02-24 00:00:00</td>\n",
       "      <td>NaN</td>\n",
       "      <td>2021-03-03 00:00:00</td>\n",
       "      <td>2021-03-16 00:00:00</td>\n",
       "      <td>Tiempo</td>\n",
       "      <td>6.0</td>\n",
       "      <td>NaN</td>\n",
       "    </tr>\n",
       "    <tr>\n",
       "      <th>3</th>\n",
       "      <td>2021-03-04 00:00:00</td>\n",
       "      <td>2265688</td>\n",
       "      <td>2021-03-02 00:00:00</td>\n",
       "      <td>11</td>\n",
       "      <td>BOGOTA</td>\n",
       "      <td>11001</td>\n",
       "      <td>BOGOTA</td>\n",
       "      <td>51</td>\n",
       "      <td>1</td>\n",
       "      <td>F</td>\n",
       "      <td>...</td>\n",
       "      <td>NaN</td>\n",
       "      <td>NaN</td>\n",
       "      <td>Recuperado</td>\n",
       "      <td>2021-02-27 00:00:00</td>\n",
       "      <td>NaN</td>\n",
       "      <td>2021-03-03 00:00:00</td>\n",
       "      <td>2021-03-13 00:00:00</td>\n",
       "      <td>Tiempo</td>\n",
       "      <td>6.0</td>\n",
       "      <td>NaN</td>\n",
       "    </tr>\n",
       "    <tr>\n",
       "      <th>4</th>\n",
       "      <td>2021-03-04 00:00:00</td>\n",
       "      <td>2265689</td>\n",
       "      <td>2021-03-02 00:00:00</td>\n",
       "      <td>11</td>\n",
       "      <td>BOGOTA</td>\n",
       "      <td>11001</td>\n",
       "      <td>BOGOTA</td>\n",
       "      <td>51</td>\n",
       "      <td>1</td>\n",
       "      <td>F</td>\n",
       "      <td>...</td>\n",
       "      <td>NaN</td>\n",
       "      <td>NaN</td>\n",
       "      <td>Recuperado</td>\n",
       "      <td>2021-03-01 00:00:00</td>\n",
       "      <td>NaN</td>\n",
       "      <td>2021-03-03 00:00:00</td>\n",
       "      <td>2021-03-16 00:00:00</td>\n",
       "      <td>Tiempo</td>\n",
       "      <td>6.0</td>\n",
       "      <td>NaN</td>\n",
       "    </tr>\n",
       "  </tbody>\n",
       "</table>\n",
       "<p>5 rows × 23 columns</p>\n",
       "</div>"
      ],
      "text/plain": [
       "     fecha reporte web  ID de caso Fecha de notificación  \\\n",
       "0  2021-03-04 00:00:00     2265685   2021-03-02 00:00:00   \n",
       "1  2021-03-04 00:00:00     2265686   2021-03-02 00:00:00   \n",
       "2  2021-03-04 00:00:00     2265687   2021-03-02 00:00:00   \n",
       "3  2021-03-04 00:00:00     2265688   2021-03-02 00:00:00   \n",
       "4  2021-03-04 00:00:00     2265689   2021-03-02 00:00:00   \n",
       "\n",
       "   Código DIVIPOLA departamento Nombre departamento  \\\n",
       "0                            11              BOGOTA   \n",
       "1                            11              BOGOTA   \n",
       "2                            11              BOGOTA   \n",
       "3                            11              BOGOTA   \n",
       "4                            11              BOGOTA   \n",
       "\n",
       "   Código DIVIPOLA municipio Nombre municipio  Edad  Unidad de medida de edad  \\\n",
       "0                      11001           BOGOTA    49                         1   \n",
       "1                      11001           BOGOTA    49                         1   \n",
       "2                      11001           BOGOTA    51                         1   \n",
       "3                      11001           BOGOTA    51                         1   \n",
       "4                      11001           BOGOTA    51                         1   \n",
       "\n",
       "  Sexo  ... Código ISO del país Nombre del país  Recuperado  \\\n",
       "0    M  ...                 NaN             NaN  Recuperado   \n",
       "1    M  ...                 NaN             NaN  Recuperado   \n",
       "2    F  ...                 NaN             NaN  Recuperado   \n",
       "3    F  ...                 NaN             NaN  Recuperado   \n",
       "4    F  ...                 NaN             NaN  Recuperado   \n",
       "\n",
       "   Fecha de inicio de síntomas Fecha de muerte Fecha de diagnóstico  \\\n",
       "0          2021-02-25 00:00:00             NaN  2021-03-03 00:00:00   \n",
       "1          2021-02-23 00:00:00             NaN  2021-03-03 00:00:00   \n",
       "2          2021-02-24 00:00:00             NaN  2021-03-03 00:00:00   \n",
       "3          2021-02-27 00:00:00             NaN  2021-03-03 00:00:00   \n",
       "4          2021-03-01 00:00:00             NaN  2021-03-03 00:00:00   \n",
       "\n",
       "  Fecha de recuperación Tipo de recuperación Pertenencia étnica  \\\n",
       "0   2021-03-16 00:00:00               Tiempo                6.0   \n",
       "1   2021-03-16 00:00:00               Tiempo                6.0   \n",
       "2   2021-03-16 00:00:00               Tiempo                6.0   \n",
       "3   2021-03-13 00:00:00               Tiempo                6.0   \n",
       "4   2021-03-16 00:00:00               Tiempo                6.0   \n",
       "\n",
       "  Nombre del grupo étnico  \n",
       "0                     NaN  \n",
       "1                     NaN  \n",
       "2                     NaN  \n",
       "3                     NaN  \n",
       "4                     NaN  \n",
       "\n",
       "[5 rows x 23 columns]"
      ]
     },
     "execution_count": 2,
     "metadata": {},
     "output_type": "execute_result"
    }
   ],
   "source": [
    "df = pd.read_csv(r'D:\\OneDrive\\JOB\\NUXTU\\Casos_positivos_de_COVID-19_en_Colombia.csv')\n",
    "df.head()"
   ]
  },
  {
   "cell_type": "code",
   "execution_count": 3,
   "metadata": {},
   "outputs": [
    {
     "name": "stdout",
     "output_type": "stream",
     "text": [
      "(6247634, 23)\n",
      "Index(['fecha reporte web', 'ID de caso', 'Fecha de notificación',\n",
      "       'Código DIVIPOLA departamento', 'Nombre departamento',\n",
      "       'Código DIVIPOLA municipio', 'Nombre municipio', 'Edad',\n",
      "       'Unidad de medida de edad', 'Sexo', 'Tipo de contagio',\n",
      "       'Ubicación del caso', 'Estado', 'Código ISO del país',\n",
      "       'Nombre del país', 'Recuperado', 'Fecha de inicio de síntomas',\n",
      "       'Fecha de muerte', 'Fecha de diagnóstico', 'Fecha de recuperación',\n",
      "       'Tipo de recuperación', 'Pertenencia étnica',\n",
      "       'Nombre del grupo étnico'],\n",
      "      dtype='object')\n"
     ]
    }
   ],
   "source": [
    "print(df.shape)\n",
    "print(df.columns)"
   ]
  },
  {
   "cell_type": "markdown",
   "metadata": {},
   "source": [
    "# Exploratory Data Analysis"
   ]
  },
  {
   "cell_type": "markdown",
   "metadata": {},
   "source": [
    "The following lines allow to explore columns in the dataset, their values, data type, null entries and how unique values are distributed among columns in order to check if any column can be dropped out due to its entries. First, the \"Estado\" column which is the subject of prediction is explored"
   ]
  },
  {
   "cell_type": "code",
   "execution_count": 4,
   "metadata": {},
   "outputs": [
    {
     "name": "stdout",
     "output_type": "stream",
     "text": [
      "Null values: 30484\n"
     ]
    },
    {
     "data": {
      "text/plain": [
       "Leve         6025656\n",
       "Fallecido     140603\n",
       "leve           49905\n",
       "Moderado         908\n",
       "Grave             76\n",
       "LEVE               2\n",
       "Name: Estado, dtype: int64"
      ]
     },
     "execution_count": 4,
     "metadata": {},
     "output_type": "execute_result"
    }
   ],
   "source": [
    "print('Null values:', df.Estado.isnull().sum())\n",
    "df.Estado.value_counts()"
   ]
  },
  {
   "cell_type": "code",
   "execution_count": 5,
   "metadata": {},
   "outputs": [
    {
     "data": {
      "text/plain": [
       "Leve         6075563\n",
       "Fallecido     140603\n",
       "Moderado         908\n",
       "Grave             76\n",
       "Name: Estado, dtype: int64"
      ]
     },
     "execution_count": 5,
     "metadata": {},
     "output_type": "execute_result"
    }
   ],
   "source": [
    "df[df['Estado']=='LEVE'] = 'Leve'\n",
    "df[df['Estado']=='leve'] = 'Leve'\n",
    "df.Estado.value_counts()"
   ]
  },
  {
   "cell_type": "markdown",
   "metadata": {},
   "source": [
    "Unique labels are:\n",
    "- Leve: 6075563\n",
    "- Moderado: 908 entries\n",
    "- Grave: 76 entries\n",
    "- Fallecido: 140603 entries\n",
    "With Nan: 30483 entries\n",
    "\n",
    "Further preprocessing will require joining 'Leve', 'leve' and 'LEVE' as unique values. The above result shows that classes are unbalanced since ‘leve’ have more than 6 million entries while grave have only 76. This will be an important insight during training. \n"
   ]
  },
  {
   "cell_type": "markdown",
   "metadata": {},
   "source": [
    "According to the INS, empty \"Recuperado\" entries are \"active\" entries, therefore:"
   ]
  },
  {
   "cell_type": "code",
   "execution_count": 6,
   "metadata": {},
   "outputs": [
    {
     "data": {
      "text/plain": [
       "Recuperado    6003952\n",
       "Fallecido      140603\n",
       "Activo          53172\n",
       "Leve            49907\n",
       "Name: Recuperado, dtype: int64"
      ]
     },
     "execution_count": 6,
     "metadata": {},
     "output_type": "execute_result"
    }
   ],
   "source": [
    "df.Recuperado = df.Recuperado.fillna('Activo')\n",
    "df[df['Recuperado']=='fallecido'] = 'Fallecido'\n",
    "df.Recuperado.value_counts()"
   ]
  },
  {
   "cell_type": "markdown",
   "metadata": {},
   "source": [
    "Useful information can be displaied of all columns in order to verify their data type and null entries"
   ]
  },
  {
   "cell_type": "code",
   "execution_count": 7,
   "metadata": {},
   "outputs": [
    {
     "name": "stdout",
     "output_type": "stream",
     "text": [
      "<class 'pandas.core.frame.DataFrame'>\n",
      "RangeIndex: 6247634 entries, 0 to 6247633\n",
      "Data columns (total 23 columns):\n",
      " #   Column                        Non-Null Count    Dtype \n",
      "---  ------                        --------------    ----- \n",
      " 0   fecha reporte web             6247634 non-null  object\n",
      " 1   ID de caso                    6247634 non-null  object\n",
      " 2   Fecha de notificación         6247634 non-null  object\n",
      " 3   Código DIVIPOLA departamento  6247634 non-null  object\n",
      " 4   Nombre departamento           6247634 non-null  object\n",
      " 5   Código DIVIPOLA municipio     6247634 non-null  object\n",
      " 6   Nombre municipio              6247634 non-null  object\n",
      " 7   Edad                          6247634 non-null  object\n",
      " 8   Unidad de medida de edad      6247634 non-null  object\n",
      " 9   Sexo                          6247634 non-null  object\n",
      " 10  Tipo de contagio              6247634 non-null  object\n",
      " 11  Ubicación del caso            6217150 non-null  object\n",
      " 12  Estado                        6217150 non-null  object\n",
      " 13  Código ISO del país           53891 non-null    object\n",
      " 14  Nombre del país               53899 non-null    object\n",
      " 15  Recuperado                    6247634 non-null  object\n",
      " 16  Fecha de inicio de síntomas   5749340 non-null  object\n",
      " 17  Fecha de muerte               220994 non-null   object\n",
      " 18  Fecha de diagnóstico          6244879 non-null  object\n",
      " 19  Fecha de recuperación         6054154 non-null  object\n",
      " 20  Tipo de recuperación          6054154 non-null  object\n",
      " 21  Pertenencia étnica            6223503 non-null  object\n",
      " 22  Nombre del grupo étnico       131701 non-null   object\n",
      "dtypes: object(23)\n",
      "memory usage: 1.1+ GB\n"
     ]
    }
   ],
   "source": [
    "df.info(verbose=True, show_counts=True)"
   ]
  },
  {
   "cell_type": "markdown",
   "metadata": {},
   "source": [
    "All columns are imported as object dtype so further data type adjustment is required. The above results reveal that four columns have null or NaN data for most of their entries. These are:\n",
    "\n",
    "- Código ISO del país\n",
    "- Nombre del país\n",
    "- Fecha de muerte\n",
    "- Nombre del grupo étinco\n",
    "\n",
    "To assess if deleting those features will negatively impact our model, unique values, and their value count for each is useful. To visualize the full output, select \"in a text editor\".\n"
   ]
  },
  {
   "cell_type": "code",
   "execution_count": 8,
   "metadata": {},
   "outputs": [
    {
     "name": "stdout",
     "output_type": "stream",
     "text": [
      "(100,)\n"
     ]
    }
   ],
   "source": [
    "col = 'Código ISO del país'\n",
    "print(df[col].value_counts().shape)\n",
    "pd.options.display.max_rows = 6000\n",
    "# df[col].value_counts()\n"
   ]
  },
  {
   "cell_type": "code",
   "execution_count": 9,
   "metadata": {},
   "outputs": [
    {
     "name": "stdout",
     "output_type": "stream",
     "text": [
      "(90,)\n"
     ]
    }
   ],
   "source": [
    "col = 'Nombre del país'\n",
    "print(df[col].value_counts().shape)\n",
    "# df[col].value_counts()\n"
   ]
  },
  {
   "cell_type": "code",
   "execution_count": 10,
   "metadata": {},
   "outputs": [
    {
     "data": {
      "text/plain": [
       "(53899, 53891)"
      ]
     },
     "execution_count": 10,
     "metadata": {},
     "output_type": "execute_result"
    }
   ],
   "source": [
    "df['Nombre del país'].notnull().sum(), df['Código ISO del país'].notnull().sum() "
   ]
  },
  {
   "cell_type": "markdown",
   "metadata": {},
   "source": [
    "Since \"Nombre del país\" and \"Código ISO del país\" provide the same information and the latter have more non-null entries, \"Nombre del país\" can be deleted as a feature. The same is true for \"Código DIVIPOLA...\" of municipalities and departments and the columns with their names. Since codes are unique and names in lower and upper caps are detected as different entries, columns with names of municipalities and departments are deleted while DIVIPOLA codes are kept, since they contain the similar information."
   ]
  },
  {
   "cell_type": "code",
   "execution_count": 11,
   "metadata": {},
   "outputs": [
    {
     "data": {
      "text/plain": [
       "((6247634, 22),\n",
       " Index(['fecha reporte web', 'ID de caso', 'Fecha de notificación',\n",
       "        'Código DIVIPOLA departamento', 'Nombre departamento',\n",
       "        'Código DIVIPOLA municipio', 'Nombre municipio', 'Edad',\n",
       "        'Unidad de medida de edad', 'Sexo', 'Tipo de contagio',\n",
       "        'Ubicación del caso', 'Estado', 'Código ISO del país', 'Recuperado',\n",
       "        'Fecha de inicio de síntomas', 'Fecha de muerte',\n",
       "        'Fecha de diagnóstico', 'Fecha de recuperación', 'Tipo de recuperación',\n",
       "        'Pertenencia étnica', 'Nombre del grupo étnico'],\n",
       "       dtype='object'))"
      ]
     },
     "execution_count": 11,
     "metadata": {},
     "output_type": "execute_result"
    }
   ],
   "source": [
    "df = df.drop('Nombre del país', axis = 1)\n",
    "df.shape, df.columns"
   ]
  },
  {
   "cell_type": "code",
   "execution_count": 12,
   "metadata": {},
   "outputs": [
    {
     "name": "stdout",
     "output_type": "stream",
     "text": [
      "(38,) (42,)\n",
      "6247634 6247634\n"
     ]
    },
    {
     "data": {
      "text/plain": [
       "((6247634, 21),\n",
       " Index(['fecha reporte web', 'ID de caso', 'Fecha de notificación',\n",
       "        'Código DIVIPOLA departamento', 'Código DIVIPOLA municipio',\n",
       "        'Nombre municipio', 'Edad', 'Unidad de medida de edad', 'Sexo',\n",
       "        'Tipo de contagio', 'Ubicación del caso', 'Estado',\n",
       "        'Código ISO del país', 'Recuperado', 'Fecha de inicio de síntomas',\n",
       "        'Fecha de muerte', 'Fecha de diagnóstico', 'Fecha de recuperación',\n",
       "        'Tipo de recuperación', 'Pertenencia étnica',\n",
       "        'Nombre del grupo étnico'],\n",
       "       dtype='object'))"
      ]
     },
     "execution_count": 12,
     "metadata": {},
     "output_type": "execute_result"
    }
   ],
   "source": [
    "print(df['Código DIVIPOLA departamento'].value_counts().shape, df['Nombre departamento'].value_counts().shape)\n",
    "print(df['Código DIVIPOLA departamento'].value_counts().sum(), df['Nombre departamento'].value_counts().sum())\n",
    "\n",
    "df = df.drop('Nombre departamento', axis = 1)\n",
    "df.shape, df.columns"
   ]
  },
  {
   "cell_type": "code",
   "execution_count": 13,
   "metadata": {},
   "outputs": [
    {
     "name": "stdout",
     "output_type": "stream",
     "text": [
      "(1123,) (1055,)\n",
      "6247634 6247634\n"
     ]
    },
    {
     "data": {
      "text/plain": [
       "((6247634, 20),\n",
       " Index(['fecha reporte web', 'ID de caso', 'Fecha de notificación',\n",
       "        'Código DIVIPOLA departamento', 'Código DIVIPOLA municipio', 'Edad',\n",
       "        'Unidad de medida de edad', 'Sexo', 'Tipo de contagio',\n",
       "        'Ubicación del caso', 'Estado', 'Código ISO del país', 'Recuperado',\n",
       "        'Fecha de inicio de síntomas', 'Fecha de muerte',\n",
       "        'Fecha de diagnóstico', 'Fecha de recuperación', 'Tipo de recuperación',\n",
       "        'Pertenencia étnica', 'Nombre del grupo étnico'],\n",
       "       dtype='object'))"
      ]
     },
     "execution_count": 13,
     "metadata": {},
     "output_type": "execute_result"
    }
   ],
   "source": [
    "print(df['Código DIVIPOLA municipio'].value_counts().shape, df['Nombre municipio'].value_counts().shape)\n",
    "print(df['Código DIVIPOLA municipio'].value_counts().sum(), df['Nombre municipio'].value_counts().sum())\n",
    "\n",
    "df = df.drop('Nombre municipio', axis = 1)\n",
    "df.shape, df.columns"
   ]
  },
  {
   "cell_type": "markdown",
   "metadata": {},
   "source": [
    "For 'Fecha de muerte', further feature extraction/selection analysis will provide more insights on how useful it will be for our model since most of its entries are null."
   ]
  },
  {
   "cell_type": "markdown",
   "metadata": {},
   "source": [
    "An inspection through the unique entries in \"Nombre del grupo étnico\" revealed that some misleading information was found since some entries are cities, numbers, dates, neighbours, but not ethnical groups, e.g., entries like \"LA PAZ\", \"13 DE MAYO\", etc. Therefore, this column will be droped as feature for the models."
   ]
  },
  {
   "cell_type": "code",
   "execution_count": 14,
   "metadata": {},
   "outputs": [
    {
     "name": "stdout",
     "output_type": "stream",
     "text": [
      "1855\n"
     ]
    }
   ],
   "source": [
    "col = 'Nombre del grupo étnico'\n",
    "print(df[col].value_counts().size)\n",
    "# df[col].value_counts()"
   ]
  },
  {
   "cell_type": "code",
   "execution_count": 15,
   "metadata": {},
   "outputs": [
    {
     "data": {
      "text/plain": [
       "((6247634, 19),\n",
       " Index(['fecha reporte web', 'ID de caso', 'Fecha de notificación',\n",
       "        'Código DIVIPOLA departamento', 'Código DIVIPOLA municipio', 'Edad',\n",
       "        'Unidad de medida de edad', 'Sexo', 'Tipo de contagio',\n",
       "        'Ubicación del caso', 'Estado', 'Código ISO del país', 'Recuperado',\n",
       "        'Fecha de inicio de síntomas', 'Fecha de muerte',\n",
       "        'Fecha de diagnóstico', 'Fecha de recuperación', 'Tipo de recuperación',\n",
       "        'Pertenencia étnica'],\n",
       "       dtype='object'))"
      ]
     },
     "execution_count": 15,
     "metadata": {},
     "output_type": "execute_result"
    }
   ],
   "source": [
    "df = df.drop('Nombre del grupo étnico', axis = 1)\n",
    "df.shape, df.columns"
   ]
  },
  {
   "cell_type": "markdown",
   "metadata": {},
   "source": [
    "Checking for useful patterns in all columns, 49907 rows have 'Leve' as entry and 295 have 'Fallecido' as entry in all columns in the dataframe, therefore, these rows will be deleted from the dataset."
   ]
  },
  {
   "cell_type": "code",
   "execution_count": 16,
   "metadata": {},
   "outputs": [
    {
     "name": "stdout",
     "output_type": "stream",
     "text": [
      "7\n"
     ]
    },
    {
     "data": {
      "text/plain": [
       "6.0          5954974\n",
       "5.0           135952\n",
       "1.0            81837\n",
       "Leve           49907\n",
       "3.0              405\n",
       "Fallecido        295\n",
       "2.0              133\n",
       "Name: Pertenencia étnica, dtype: int64"
      ]
     },
     "execution_count": 16,
     "metadata": {},
     "output_type": "execute_result"
    }
   ],
   "source": [
    "# Change the col variable to explore \"Leve\" and \"Fallecido\" presence in other columns\n",
    "col = 'Pertenencia étnica'\n",
    "print(df[col].value_counts().size)\n",
    "df[col].value_counts()"
   ]
  },
  {
   "cell_type": "code",
   "execution_count": 17,
   "metadata": {},
   "outputs": [
    {
     "name": "stdout",
     "output_type": "stream",
     "text": [
      "5\n"
     ]
    },
    {
     "data": {
      "text/plain": [
       "6.0    5954974\n",
       "5.0     135952\n",
       "1.0      81837\n",
       "3.0        405\n",
       "2.0        133\n",
       "Name: Pertenencia étnica, dtype: int64"
      ]
     },
     "execution_count": 17,
     "metadata": {},
     "output_type": "execute_result"
    }
   ],
   "source": [
    "df = df[df['Pertenencia étnica'] != 'Leve']\n",
    "df = df[df['Pertenencia étnica'] != 'Fallecido']\n",
    "\n",
    "col = 'Pertenencia étnica'\n",
    "print(df[col].value_counts().size)\n",
    "df[col].value_counts()"
   ]
  },
  {
   "cell_type": "code",
   "execution_count": 18,
   "metadata": {},
   "outputs": [
    {
     "data": {
      "text/html": [
       "<div>\n",
       "<style scoped>\n",
       "    .dataframe tbody tr th:only-of-type {\n",
       "        vertical-align: middle;\n",
       "    }\n",
       "\n",
       "    .dataframe tbody tr th {\n",
       "        vertical-align: top;\n",
       "    }\n",
       "\n",
       "    .dataframe thead th {\n",
       "        text-align: right;\n",
       "    }\n",
       "</style>\n",
       "<table border=\"1\" class=\"dataframe\">\n",
       "  <thead>\n",
       "    <tr style=\"text-align: right;\">\n",
       "      <th></th>\n",
       "      <th>fecha reporte web</th>\n",
       "      <th>ID de caso</th>\n",
       "      <th>Fecha de notificación</th>\n",
       "      <th>Código DIVIPOLA departamento</th>\n",
       "      <th>Código DIVIPOLA municipio</th>\n",
       "      <th>Edad</th>\n",
       "      <th>Unidad de medida de edad</th>\n",
       "      <th>Sexo</th>\n",
       "      <th>Tipo de contagio</th>\n",
       "      <th>Ubicación del caso</th>\n",
       "      <th>Estado</th>\n",
       "      <th>Código ISO del país</th>\n",
       "      <th>Recuperado</th>\n",
       "      <th>Fecha de inicio de síntomas</th>\n",
       "      <th>Fecha de muerte</th>\n",
       "      <th>Fecha de diagnóstico</th>\n",
       "      <th>Fecha de recuperación</th>\n",
       "      <th>Tipo de recuperación</th>\n",
       "      <th>Pertenencia étnica</th>\n",
       "    </tr>\n",
       "  </thead>\n",
       "  <tbody>\n",
       "    <tr>\n",
       "      <th>count</th>\n",
       "      <td>6197432</td>\n",
       "      <td>6197432</td>\n",
       "      <td>6197432</td>\n",
       "      <td>6197432</td>\n",
       "      <td>6197432</td>\n",
       "      <td>6197432</td>\n",
       "      <td>6197432</td>\n",
       "      <td>6197432</td>\n",
       "      <td>6197432</td>\n",
       "      <td>6166948</td>\n",
       "      <td>6166948</td>\n",
       "      <td>3689.0</td>\n",
       "      <td>6197432</td>\n",
       "      <td>5699138</td>\n",
       "      <td>170792</td>\n",
       "      <td>6194677</td>\n",
       "      <td>6003952</td>\n",
       "      <td>6003952</td>\n",
       "      <td>6173301.0</td>\n",
       "    </tr>\n",
       "    <tr>\n",
       "      <th>unique</th>\n",
       "      <td>795</td>\n",
       "      <td>6197432</td>\n",
       "      <td>868</td>\n",
       "      <td>36</td>\n",
       "      <td>1121</td>\n",
       "      <td>114</td>\n",
       "      <td>3</td>\n",
       "      <td>4</td>\n",
       "      <td>3</td>\n",
       "      <td>6</td>\n",
       "      <td>4</td>\n",
       "      <td>98.0</td>\n",
       "      <td>3</td>\n",
       "      <td>873</td>\n",
       "      <td>855</td>\n",
       "      <td>864</td>\n",
       "      <td>856</td>\n",
       "      <td>2</td>\n",
       "      <td>5.0</td>\n",
       "    </tr>\n",
       "    <tr>\n",
       "      <th>top</th>\n",
       "      <td>2022-01-15 00:00:00</td>\n",
       "      <td>1</td>\n",
       "      <td>2022-01-06 00:00:00</td>\n",
       "      <td>11</td>\n",
       "      <td>11001</td>\n",
       "      <td>30</td>\n",
       "      <td>1</td>\n",
       "      <td>F</td>\n",
       "      <td>Comunitaria</td>\n",
       "      <td>Casa</td>\n",
       "      <td>Leve</td>\n",
       "      <td>840.0</td>\n",
       "      <td>Recuperado</td>\n",
       "      <td>2022-01-03 00:00:00</td>\n",
       "      <td>2021-06-21 00:00:00</td>\n",
       "      <td>2022-01-07 00:00:00</td>\n",
       "      <td>2021-06-15 00:00:00</td>\n",
       "      <td>Tiempo</td>\n",
       "      <td>6.0</td>\n",
       "    </tr>\n",
       "    <tr>\n",
       "      <th>freq</th>\n",
       "      <td>35558</td>\n",
       "      <td>1</td>\n",
       "      <td>42640</td>\n",
       "      <td>1822915</td>\n",
       "      <td>1822915</td>\n",
       "      <td>149695</td>\n",
       "      <td>6171721</td>\n",
       "      <td>3305836</td>\n",
       "      <td>4287894</td>\n",
       "      <td>6021502</td>\n",
       "      <td>6025656</td>\n",
       "      <td>1415.0</td>\n",
       "      <td>6003952</td>\n",
       "      <td>37300</td>\n",
       "      <td>716</td>\n",
       "      <td>39621</td>\n",
       "      <td>61034</td>\n",
       "      <td>5076095</td>\n",
       "      <td>5954974.0</td>\n",
       "    </tr>\n",
       "  </tbody>\n",
       "</table>\n",
       "</div>"
      ],
      "text/plain": [
       "          fecha reporte web  ID de caso Fecha de notificación  \\\n",
       "count               6197432     6197432               6197432   \n",
       "unique                  795     6197432                   868   \n",
       "top     2022-01-15 00:00:00           1   2022-01-06 00:00:00   \n",
       "freq                  35558           1                 42640   \n",
       "\n",
       "        Código DIVIPOLA departamento  Código DIVIPOLA municipio     Edad  \\\n",
       "count                        6197432                    6197432  6197432   \n",
       "unique                            36                       1121      114   \n",
       "top                               11                      11001       30   \n",
       "freq                         1822915                    1822915   149695   \n",
       "\n",
       "        Unidad de medida de edad     Sexo Tipo de contagio Ubicación del caso  \\\n",
       "count                    6197432  6197432          6197432            6166948   \n",
       "unique                         3        4                3                  6   \n",
       "top                            1        F      Comunitaria               Casa   \n",
       "freq                     6171721  3305836          4287894            6021502   \n",
       "\n",
       "         Estado  Código ISO del país  Recuperado Fecha de inicio de síntomas  \\\n",
       "count   6166948               3689.0     6197432                     5699138   \n",
       "unique        4                 98.0           3                         873   \n",
       "top        Leve                840.0  Recuperado         2022-01-03 00:00:00   \n",
       "freq    6025656               1415.0     6003952                       37300   \n",
       "\n",
       "            Fecha de muerte Fecha de diagnóstico Fecha de recuperación  \\\n",
       "count                170792              6194677               6003952   \n",
       "unique                  855                  864                   856   \n",
       "top     2021-06-21 00:00:00  2022-01-07 00:00:00   2021-06-15 00:00:00   \n",
       "freq                    716                39621                 61034   \n",
       "\n",
       "       Tipo de recuperación  Pertenencia étnica  \n",
       "count               6003952           6173301.0  \n",
       "unique                    2                 5.0  \n",
       "top                  Tiempo                 6.0  \n",
       "freq                5076095           5954974.0  "
      ]
     },
     "execution_count": 18,
     "metadata": {},
     "output_type": "execute_result"
    }
   ],
   "source": [
    "df.describe()"
   ]
  },
  {
   "cell_type": "markdown",
   "metadata": {},
   "source": [
    "For Age to be a reliable feature all entries must have the same time unit. Therefore, months and days entries will be converted to years since the mayority of entries have this unit of meassure."
   ]
  },
  {
   "cell_type": "code",
   "execution_count": 19,
   "metadata": {},
   "outputs": [],
   "source": [
    "# For entries in months\n",
    "new_age2 = df.loc[df['Unidad de medida de edad']==2, ['Edad']].iloc[:,0]/12\n",
    "df.loc[df['Unidad de medida de edad']==2, ['Edad']] = new_age2\n",
    "\n",
    "# For entries in days\n",
    "new_age3 = df.loc[df['Unidad de medida de edad']==3, ['Edad']].iloc[:,0]/365\n",
    "df.loc[df['Unidad de medida de edad']==3, ['Edad']] = new_age3\n",
    "\n",
    "# # drop \"unidad de medida de edad\" since no longer useful\n",
    "# df = df.drop('Unidad de medida de edad', axis = 1)\n",
    "# df.shape"
   ]
  },
  {
   "cell_type": "code",
   "execution_count": 20,
   "metadata": {},
   "outputs": [
    {
     "data": {
      "text/plain": [
       "F    3305842\n",
       "M    2891590\n",
       "Name: Sexo, dtype: int64"
      ]
     },
     "execution_count": 20,
     "metadata": {},
     "output_type": "execute_result"
    }
   ],
   "source": [
    "# Defining unique entries for 'Sexo'\n",
    "df.loc[df.Sexo == 'm', ['Sexo']] = 'M'\n",
    "df.loc[df.Sexo == 'f',['Sexo']] = 'F'\n",
    "\n",
    "df.Sexo.value_counts()"
   ]
  },
  {
   "cell_type": "markdown",
   "metadata": {},
   "source": [
    "## EDA for each label"
   ]
  },
  {
   "cell_type": "markdown",
   "metadata": {},
   "source": [
    "### Age"
   ]
  },
  {
   "cell_type": "markdown",
   "metadata": {},
   "source": [
    "From the plot bellow three conclusion can be drawn:\n",
    "- Most of the people in the data set have slight (Leve) or deceased (fallecido) states. Slight distribution is right skewed with mean near 39 years old, hence given that a patient is in a slight COVID19 state, it is more likely that is between 20 and 55 years old, since more people in this range age are labeled under this class. On the other hand, deceased patients have mean 68.33 with a left skewed distribution, hence if a patient has deceased it is more likely that he/she was above 50 years old have.\n",
    "- Less people are moderate (moderado) or serious (grave) with sparser distributions, with big interquartile ranges. Both distributions have a high number of kids and babies however, ignoring toddlers, both distributions are left skewed. Therefore, given that a patient is in a moderate or serious COVID19 state, it is more probable that the patient is a kid, newborn, or 50-year-old or more.\n"
   ]
  },
  {
   "cell_type": "code",
   "execution_count": 21,
   "metadata": {},
   "outputs": [
    {
     "name": "stdout",
     "output_type": "stream",
     "text": [
      "87.0 47.0\n",
      "63.0 19.0\n"
     ]
    },
    {
     "data": {
      "image/png": "[encoded data removed]",
      "text/plain": [
       "<Figure size 1440x360 with 4 Axes>"
      ]
     },
     "metadata": {
      "needs_background": "light"
     },
     "output_type": "display_data"
    },
    {
     "data": {
      "image/png": "[encoded data removed]",
      "text/plain": [
       "<Figure size 1800x360 with 4 Axes>"
      ]
     },
     "metadata": {
      "needs_background": "light"
     },
     "output_type": "display_data"
    },
    {
     "data": {
      "image/png": "[encoded data removed]",
      "text/plain": [
       "<Figure size 1440x360 with 4 Axes>"
      ]
     },
     "metadata": {
      "needs_background": "light"
     },
     "output_type": "display_data"
    }
   ],
   "source": [
    "df.Edad = df.Edad.astype('float')\n",
    "\n",
    "fig, axs = plt.subplots(1, 4, figsize=(20,5))\n",
    "axs[0].hist(df[df['Estado']=='Fallecido'].Edad, bins=30, color='r', histtype = 'step', stacked=True)\n",
    "q3, q1 = np.percentile(df[df['Estado']=='Fallecido'].Edad, [90,10])\n",
    "print(q3,q1)\n",
    "axs[0].vlines([q1,q3],0,15000, linestyle='dashed')\n",
    "axs[0].set_title('Fallecido')\n",
    "axs[0].set_xlabel('Edad')\n",
    "axs[0].set_ylim(0,15000)\n",
    "axs[1].hist(df[df['Estado']=='Grave'].Edad, bins=60, histtype = 'step')\n",
    "q3, q1 = np.percentile(df[df['Estado']=='Grave'].Edad, [75,25])\n",
    "axs[1].vlines([q1,q3],0,20, linestyle='dashed')\n",
    "axs[1].set_title('Grave')\n",
    "axs[1].set_xlabel('Edad')\n",
    "axs[1].set_ylim(0,18)\n",
    "axs[2].hist(df[df['Estado']=='Moderado'].Edad, bins=60, histtype = 'step', color='k')\n",
    "q3, q1 = np.percentile(df[df['Estado']=='Moderado'].Edad, [75,25])\n",
    "axs[2].vlines([q1,q3],0,300, linestyle='dashed')\n",
    "axs[2].set_title('Moderado')\n",
    "axs[2].set_xlabel('Edad')\n",
    "axs[2].set_ylim(0,260)\n",
    "axs[3].hist(df[df['Estado']=='Leve'].Edad, bins=30, histtype = 'step', color='g')\n",
    "q3, q1 = np.percentile(df[df['Estado']=='Leve'].Edad, [90,10])\n",
    "print(q3,q1)\n",
    "axs[3].vlines([q1,q3],0,610000, linestyle='dashed')\n",
    "axs[3].set_title('Leve')\n",
    "axs[3].set_xlabel('Edad')\n",
    "axs[3].set_ylim(0,610000)\n",
    "plt.show()\n",
    "\n",
    "fig, axs = plt.subplots(1, 4, figsize=(25,5))\n",
    "sns.kdeplot(df[df['Estado']=='Fallecido'].Edad, ax=axs[0], color='r')\n",
    "axs[0].set_title('Fallecido')\n",
    "axs[0].set_xlabel('Edad')\n",
    "sns.kdeplot(df[df['Estado']=='Grave'].Edad, ax=axs[1])\n",
    "axs[1].set_title('Grave')\n",
    "axs[1].set_xlabel('Edad')\n",
    "sns.kdeplot(df[df['Estado']=='Moderado'].Edad, ax=axs[2], color='k')\n",
    "axs[2].set_title('Moderado')\n",
    "axs[2].set_xlabel('Edad')\n",
    "sns.kdeplot(df[df['Estado']=='Leve'].Edad, ax=axs[3], color='g')\n",
    "axs[3].set_title('Leve')\n",
    "axs[3].set_xlabel('Edad')\n",
    "plt.show()\n",
    "\n",
    "fig, axs = plt.subplots(1, 4, figsize=(20,5))\n",
    "axs[0].boxplot(df[df['Estado']=='Fallecido'].Edad)\n",
    "axs[0].set_title('Fallecido')\n",
    "axs[0].set_xlabel('Edad')\n",
    "axs[1].boxplot(df[df['Estado']=='Grave'].Edad)\n",
    "axs[1].set_title('Grave')\n",
    "axs[1].set_xlabel('Edad')\n",
    "axs[2].boxplot(df[df['Estado']=='Moderado'].Edad)\n",
    "axs[2].set_title('Moderado')\n",
    "axs[2].set_xlabel('Edad')\n",
    "axs[3].boxplot(df[df['Estado']=='Leve'].Edad)\n",
    "axs[3].set_title('Leve')\n",
    "axs[3].set_xlabel('Edad')\n",
    "plt.show()\n"
   ]
  },
  {
   "cell_type": "markdown",
   "metadata": {},
   "source": [
    "### Gender\n",
    "\n",
    "There is no clear tendency or relation between Gender and the state of the patient. Further feature engineering will help assess the relevance of this column."
   ]
  },
  {
   "cell_type": "code",
   "execution_count": 22,
   "metadata": {},
   "outputs": [
    {
     "data": {
      "image/png": "[encoded data removed]",
      "text/plain": [
       "<Figure size 1440x360 with 4 Axes>"
      ]
     },
     "metadata": {
      "needs_background": "light"
     },
     "output_type": "display_data"
    }
   ],
   "source": [
    "fig, axs = plt.subplots(1, 4, figsize=(20,5))\n",
    "axs[0].hist(df[df['Estado']=='Fallecido'].Sexo, color = 'r')\n",
    "axs[0].set_title('Fallecido')\n",
    "axs[0].set_xlabel('Sexo')\n",
    "axs[1].hist(df[df['Estado']=='Grave'].Sexo)\n",
    "axs[1].set_title('Grave')\n",
    "axs[1].set_xlabel('Sexo')\n",
    "axs[2].hist(df[df['Estado']=='Moderado'].Sexo, color = 'k')\n",
    "axs[2].set_title('Moderado')\n",
    "axs[2].set_xlabel('Sexo')\n",
    "axs[3].hist(df[df['Estado']=='Leve'].Sexo, color = 'g')\n",
    "axs[3].set_title('Leve')\n",
    "axs[3].set_xlabel('Sexo')\n",
    "plt.show()"
   ]
  },
  {
   "cell_type": "markdown",
   "metadata": {},
   "source": [
    "### Ethnicity\n",
    "\n",
    "Most of the patients in all states are classified as other etnicity among the 6 classess available. This night be a consequence lack of etnicity awareness in some populaitons as well as low access to test and health care systems in some ethnicities, which can bias data. Also, a lot of ethnicities are minorities hence, lower recordings are expected. Therefore, it is likely that this column will not be a useful feture in predicting the state of a patient, but further feature analysis will give more insights."
   ]
  },
  {
   "cell_type": "code",
   "execution_count": 23,
   "metadata": {},
   "outputs": [
    {
     "data": {
      "image/png": "[encoded data removed]",
      "text/plain": [
       "<Figure size 1440x360 with 4 Axes>"
      ]
     },
     "metadata": {
      "needs_background": "light"
     },
     "output_type": "display_data"
    }
   ],
   "source": [
    "df['Pertenencia étnica'] = df['Pertenencia étnica'].astype('float')\n",
    "\n",
    "fig, axs = plt.subplots(1, 4, figsize=(20,5))\n",
    "axs[0].bar(df[df['Estado']=='Fallecido']['Pertenencia étnica'].value_counts().sort_index().index, df[df['Estado']=='Fallecido']['Pertenencia étnica'].value_counts().sort_index(),\\\n",
    "     color = 'r', align='center')\n",
    "axs[0].set_title('Fallecido')\n",
    "axs[0].set_xlabel('Pertenencia étnica')\n",
    "axs[1].bar(df[df['Estado']=='Grave']['Pertenencia étnica'].value_counts().sort_index().index, df[df['Estado']=='Grave']['Pertenencia étnica'].value_counts().sort_index(), align='center')\n",
    "axs[1].set_title('Grave')\n",
    "axs[1].set_xlabel('Pertenencia étnica')\n",
    "axs[1].set_xlim([0,7])\n",
    "axs[2].bar(df[df['Estado']=='Moderado']['Pertenencia étnica'].value_counts().sort_index().index,df[df['Estado']=='Moderado']['Pertenencia étnica'].value_counts().sort_index(),\\\n",
    "     color = 'k', align='center')\n",
    "axs[2].set_title('Moderado')\n",
    "axs[2].set_xlabel('Pertenencia étnica')\n",
    "axs[3].bar(df[df['Estado']=='Leve']['Pertenencia étnica'].value_counts().sort_index().index,df[df['Estado']=='Leve']['Pertenencia étnica'].value_counts().sort_index(), \\\n",
    "    color = 'g', align='center')\n",
    "axs[3].set_title('Leve')\n",
    "axs[3].set_xlabel('Pertenencia étnica')\n",
    "plt.show()"
   ]
  },
  {
   "cell_type": "markdown",
   "metadata": {},
   "source": [
    "### Recovery type\n",
    "\n",
    "Among all states, less people recovery was due to PCR test than due to time, however, this might be a related to the testing capacity of the country. Hence, further feature evaluation might allow to evaluate the suitability of this column for our problem."
   ]
  },
  {
   "cell_type": "code",
   "execution_count": 24,
   "metadata": {},
   "outputs": [
    {
     "data": {
      "image/png": "[encoded data removed]",
      "text/plain": [
       "<Figure size 1440x360 with 4 Axes>"
      ]
     },
     "metadata": {
      "needs_background": "light"
     },
     "output_type": "display_data"
    }
   ],
   "source": [
    "fig, axs = plt.subplots(1, 4, figsize=(20,5))\n",
    "axs[0].bar(df[df['Estado']=='Fallecido']['Tipo de recuperación'].value_counts().sort_index().index, df[df['Estado']=='Fallecido']['Tipo de recuperación'].value_counts().sort_index(),\\\n",
    "     color = 'g', align='center')\n",
    "axs[0].set_title('Fallecido')\n",
    "axs[0].set_xlabel('Tipo de recuperación')\n",
    "axs[1].bar(df[df['Estado']=='Grave']['Tipo de recuperación'].value_counts().sort_index().index, df[df['Estado']=='Grave']['Tipo de recuperación'].value_counts().sort_index(), align='center')\n",
    "axs[1].set_title('Grave')\n",
    "axs[1].set_xlabel('Tipo de recuperación')\n",
    "# axs[1].set_xlim([0,7])\n",
    "axs[2].bar(df[df['Estado']=='Moderado']['Tipo de recuperación'].value_counts().sort_index().index,df[df['Estado']=='Moderado']['Tipo de recuperación'].value_counts().sort_index(),\\\n",
    "     color = 'k', align='center')\n",
    "axs[2].set_title('Moderado')\n",
    "axs[2].set_xlabel('Tipo de recuperación')\n",
    "axs[3].bar(df[df['Estado']=='Leve']['Tipo de recuperación'].value_counts().sort_index().index,df[df['Estado']=='Leve']['Tipo de recuperación'].value_counts().sort_index(), \\\n",
    "    color = 'g', align='center')\n",
    "axs[3].set_title('Leve')\n",
    "axs[3].set_xlabel('Tipo de recuperación')\n",
    "plt.show()"
   ]
  },
  {
   "cell_type": "markdown",
   "metadata": {},
   "source": [
    "### Diagnosis date\n",
    "\n",
    "Bar charts bellow show patient in each state from March 2020 to July 2022. In 2022, deceased and slight cases have reduced accompanied by an increase of serious and moderate cases. This tendency is probably a consequence of higher vaccination rates as well as reduced tests per day since late 2021. Furthermore, deceased, and slight plots display four peaks during the pandemic, the latter being smaller for deceases and bigger for slight states, probably due to higher vaccination coverage, as well."
   ]
  },
  {
   "cell_type": "code",
   "execution_count": 25,
   "metadata": {},
   "outputs": [
    {
     "data": {
      "image/png": "[encoded data removed]",
      "text/plain": [
       "<Figure size 1440x360 with 4 Axes>"
      ]
     },
     "metadata": {
      "needs_background": "light"
     },
     "output_type": "display_data"
    }
   ],
   "source": [
    "fig, axs = plt.subplots(1, 4, figsize=(20,5))\n",
    "axs[0].bar(df[df['Estado']=='Fallecido']['Fecha de diagnóstico'].value_counts().sort_index().index, df[df['Estado']=='Fallecido']['Fecha de diagnóstico'].value_counts().sort_index(),\\\n",
    "     color = 'g', align='center')\n",
    "axs[0].set_title('Fallecido')\n",
    "axs[0].set_xlabel('Tipo de recuperación')\n",
    "axs[1].bar(df[df['Estado']=='Grave']['Fecha de diagnóstico'].value_counts().sort_index().index, df[df['Estado']=='Grave']['Fecha de diagnóstico'].value_counts().sort_index(), align='center')\n",
    "axs[1].set_title('Grave')\n",
    "axs[1].set_xlabel('Tipo de recuperación')\n",
    "# axs[1].set_xlim([0,7])\n",
    "axs[2].bar(df[df['Estado']=='Moderado']['Fecha de diagnóstico'].value_counts().sort_index().index,df[df['Estado']=='Moderado']['Fecha de diagnóstico'].value_counts().sort_index(),\\\n",
    "     color = 'k', align='center')\n",
    "axs[2].set_title('Moderado')\n",
    "axs[2].set_xlabel('Tipo de recuperación')\n",
    "axs[3].bar(df[df['Estado']=='Leve']['Fecha de diagnóstico'].value_counts().sort_index().index,df[df['Estado']=='Leve']['Fecha de diagnóstico'].value_counts().sort_index(), \\\n",
    "    color = 'r', align='center')\n",
    "axs[3].set_title('Leve')\n",
    "axs[3].set_xlabel('Tipo de recuperación')\n",
    "plt.show()"
   ]
  },
  {
   "cell_type": "code",
   "execution_count": 26,
   "metadata": {},
   "outputs": [
    {
     "data": {
      "text/plain": [
       "Index(['fecha reporte web', 'ID de caso', 'Fecha de notificación',\n",
       "       'Código DIVIPOLA departamento', 'Código DIVIPOLA municipio', 'Edad',\n",
       "       'Unidad de medida de edad', 'Sexo', 'Tipo de contagio',\n",
       "       'Ubicación del caso', 'Estado', 'Código ISO del país', 'Recuperado',\n",
       "       'Fecha de inicio de síntomas', 'Fecha de muerte',\n",
       "       'Fecha de diagnóstico', 'Fecha de recuperación', 'Tipo de recuperación',\n",
       "       'Pertenencia étnica'],\n",
       "      dtype='object')"
      ]
     },
     "execution_count": 26,
     "metadata": {},
     "output_type": "execute_result"
    }
   ],
   "source": [
    "df.columns"
   ]
  },
  {
   "cell_type": "markdown",
   "metadata": {},
   "source": [
    "# Preprocessing"
   ]
  },
  {
   "cell_type": "markdown",
   "metadata": {},
   "source": [
    "## Data types\n",
    "\n",
    "Verifying proper data types of analysis"
   ]
  },
  {
   "cell_type": "code",
   "execution_count": 27,
   "metadata": {},
   "outputs": [
    {
     "name": "stdout",
     "output_type": "stream",
     "text": [
      "fecha reporte web                object\n",
      "ID de caso                       object\n",
      "Fecha de notificación            object\n",
      "Código DIVIPOLA departamento     object\n",
      "Código DIVIPOLA municipio        object\n",
      "Edad                            float64\n",
      "Unidad de medida de edad         object\n",
      "Sexo                             object\n",
      "Tipo de contagio                 object\n",
      "Ubicación del caso               object\n",
      "Estado                           object\n",
      "Código ISO del país              object\n",
      "Recuperado                       object\n",
      "Fecha de inicio de síntomas      object\n",
      "Fecha de muerte                  object\n",
      "Fecha de diagnóstico             object\n",
      "Fecha de recuperación            object\n",
      "Tipo de recuperación             object\n",
      "Pertenencia étnica              float64\n",
      "dtype: object\n"
     ]
    }
   ],
   "source": [
    "print(df.dtypes)"
   ]
  },
  {
   "cell_type": "code",
   "execution_count": 28,
   "metadata": {},
   "outputs": [],
   "source": [
    "df['fecha reporte web'] = df['fecha reporte web'].astype('string')\n",
    "df['ID de caso'] = df['ID de caso'].astype('int')\n",
    "df.Sexo = df.Sexo.astype('string')\n",
    "df['Tipo de contagio'] = df['Tipo de contagio'].astype('string')\n",
    "df['Ubicación del caso'] = df['Ubicación del caso'].astype('string')\n",
    "df['Estado'] = df['Estado'].astype('string')\n",
    "df['Código ISO del país'] = df['Código ISO del país'].astype('float')\n",
    "df['Fecha de notificación'] = df['Fecha de notificación'].astype('string')\n",
    "df['Código DIVIPOLA departamento'] = df['Código DIVIPOLA departamento'].astype('int')\n",
    "df['Código DIVIPOLA municipio'] = df['Código DIVIPOLA municipio'].astype('int')\n",
    "df['Unidad de medida de edad'] = df['Unidad de medida de edad'].astype('int')\n",
    "df['Sexo'] = df['Sexo'].astype('string')\n",
    "df['Recuperado'] = df['Recuperado'].astype('string')\n",
    "df['Fecha de inicio de síntomas'] = df['Fecha de inicio de síntomas'].astype('string')\n",
    "df['Fecha de muerte'] = df['Fecha de muerte'].astype('string')\n",
    "df['Fecha de diagnóstico'] = df['Fecha de diagnóstico'].astype('string')\n",
    "df['Fecha de recuperación'] = df['Fecha de recuperación'].astype('string')\n",
    "df['Tipo de recuperación'] = df['Tipo de recuperación'].astype('string')"
   ]
  },
  {
   "cell_type": "code",
   "execution_count": 29,
   "metadata": {},
   "outputs": [
    {
     "data": {
      "text/plain": [
       "fecha reporte web                string\n",
       "ID de caso                        int32\n",
       "Fecha de notificación            string\n",
       "Código DIVIPOLA departamento      int32\n",
       "Código DIVIPOLA municipio         int32\n",
       "Edad                            float64\n",
       "Unidad de medida de edad          int32\n",
       "Sexo                             string\n",
       "Tipo de contagio                 string\n",
       "Ubicación del caso               string\n",
       "Estado                           string\n",
       "Código ISO del país             float64\n",
       "Recuperado                       string\n",
       "Fecha de inicio de síntomas      string\n",
       "Fecha de muerte                  string\n",
       "Fecha de diagnóstico             string\n",
       "Fecha de recuperación            string\n",
       "Tipo de recuperación             string\n",
       "Pertenencia étnica              float64\n",
       "dtype: object"
      ]
     },
     "execution_count": 29,
     "metadata": {},
     "output_type": "execute_result"
    }
   ],
   "source": [
    "df.dtypes"
   ]
  },
  {
   "cell_type": "markdown",
   "metadata": {},
   "source": [
    "## NaN Values\n",
    "\n",
    "Features with more than 10% of NaNs will be dropped. Therefore, columns like \"Código ISO del país\" and \"Fecha de muerte\" where deleted."
   ]
  },
  {
   "cell_type": "code",
   "execution_count": 30,
   "metadata": {},
   "outputs": [],
   "source": [
    "df = df.dropna(axis=1, thresh=600000)"
   ]
  },
  {
   "cell_type": "code",
   "execution_count": 31,
   "metadata": {},
   "outputs": [
    {
     "data": {
      "text/plain": [
       "(Index(['fecha reporte web', 'ID de caso', 'Fecha de notificación',\n",
       "        'Código DIVIPOLA departamento', 'Código DIVIPOLA municipio', 'Edad',\n",
       "        'Unidad de medida de edad', 'Sexo', 'Tipo de contagio',\n",
       "        'Ubicación del caso', 'Estado', 'Recuperado',\n",
       "        'Fecha de inicio de síntomas', 'Fecha de diagnóstico',\n",
       "        'Fecha de recuperación', 'Tipo de recuperación', 'Pertenencia étnica'],\n",
       "       dtype='object'),\n",
       " (6197432, 17))"
      ]
     },
     "execution_count": 31,
     "metadata": {},
     "output_type": "execute_result"
    }
   ],
   "source": [
    "df.columns, df.shape"
   ]
  },
  {
   "cell_type": "code",
   "execution_count": 32,
   "metadata": {},
   "outputs": [
    {
     "name": "stdout",
     "output_type": "stream",
     "text": [
      "<class 'pandas.core.frame.DataFrame'>\n",
      "Int64Index: 6197432 entries, 0 to 6247633\n",
      "Data columns (total 17 columns):\n",
      " #   Column                        Non-Null Count    Dtype  \n",
      "---  ------                        --------------    -----  \n",
      " 0   fecha reporte web             6197432 non-null  string \n",
      " 1   ID de caso                    6197432 non-null  int32  \n",
      " 2   Fecha de notificación         6197432 non-null  string \n",
      " 3   Código DIVIPOLA departamento  6197432 non-null  int32  \n",
      " 4   Código DIVIPOLA municipio     6197432 non-null  int32  \n",
      " 5   Edad                          6197432 non-null  float64\n",
      " 6   Unidad de medida de edad      6197432 non-null  int32  \n",
      " 7   Sexo                          6197432 non-null  string \n",
      " 8   Tipo de contagio              6197432 non-null  string \n",
      " 9   Ubicación del caso            6166948 non-null  string \n",
      " 10  Estado                        6166948 non-null  string \n",
      " 11  Recuperado                    6197432 non-null  string \n",
      " 12  Fecha de inicio de síntomas   5699138 non-null  string \n",
      " 13  Fecha de diagnóstico          6194677 non-null  string \n",
      " 14  Fecha de recuperación         6003952 non-null  string \n",
      " 15  Tipo de recuperación          6003952 non-null  string \n",
      " 16  Pertenencia étnica            6173301 non-null  float64\n",
      "dtypes: float64(2), int32(4), string(11)\n",
      "memory usage: 756.5 MB\n"
     ]
    }
   ],
   "source": [
    "df.info(verbose=True, show_counts=True)"
   ]
  },
  {
   "cell_type": "markdown",
   "metadata": {},
   "source": [
    "## Standarization\n",
    "\n",
    "Variance is different among all numerical features, and this can affect their representational power. This is also a consequence of different scales among columns, e.g., \"ID de caso\" varies from 6247674 to 1, while \"Pertenencia étnica\" from 1 to 6. Therefore, normalization and/or standardization is useful to have same scale features."
   ]
  },
  {
   "cell_type": "code",
   "execution_count": 33,
   "metadata": {},
   "outputs": [
    {
     "data": {
      "text/plain": [
       "ID de caso                      3.244892e+12\n",
       "Código DIVIPOLA departamento    3.475289e+07\n",
       "Código DIVIPOLA municipio       6.924481e+08\n",
       "Edad                            3.364314e+02\n",
       "Unidad de medida de edad        5.199603e-03\n",
       "Pertenencia étnica              3.465249e-01\n",
       "dtype: float64"
      ]
     },
     "execution_count": 33,
     "metadata": {},
     "output_type": "execute_result"
    }
   ],
   "source": [
    "df.var()"
   ]
  },
  {
   "cell_type": "code",
   "execution_count": 34,
   "metadata": {},
   "outputs": [],
   "source": [
    "df_subset = df[['ID de caso', 'Código DIVIPOLA departamento', 'Código DIVIPOLA municipio', 'Edad', 'Unidad de medida de edad', 'Pertenencia étnica']]"
   ]
  },
  {
   "cell_type": "code",
   "execution_count": 35,
   "metadata": {},
   "outputs": [
    {
     "data": {
      "text/plain": [
       "ID de caso                      1.0\n",
       "Código DIVIPOLA departamento    1.0\n",
       "Código DIVIPOLA municipio       1.0\n",
       "Edad                            1.0\n",
       "Unidad de medida de edad        1.0\n",
       "Pertenencia étnica              1.0\n",
       "dtype: float64"
      ]
     },
     "execution_count": 35,
     "metadata": {},
     "output_type": "execute_result"
    }
   ],
   "source": [
    "from sklearn.preprocessing import StandardScaler\n",
    "ss = StandardScaler()\n",
    "df_sub_scaled = pd.DataFrame(ss.fit_transform(df_subset), index=df_subset.index, columns = df_subset.columns)\n",
    "df_sub_scaled.var()"
   ]
  },
  {
   "cell_type": "code",
   "execution_count": 36,
   "metadata": {},
   "outputs": [
    {
     "data": {
      "text/plain": [
       "ID de caso                      1.0\n",
       "Código DIVIPOLA departamento    1.0\n",
       "Código DIVIPOLA municipio       1.0\n",
       "Edad                            1.0\n",
       "Unidad de medida de edad        1.0\n",
       "Pertenencia étnica              1.0\n",
       "dtype: float64"
      ]
     },
     "execution_count": 36,
     "metadata": {},
     "output_type": "execute_result"
    }
   ],
   "source": [
    "df_scaled = df.copy()\n",
    "df_scaled[['ID de caso', 'Código DIVIPOLA departamento', 'Código DIVIPOLA municipio', 'Edad', 'Unidad de medida de edad', 'Pertenencia étnica']] = df_sub_scaled\n",
    "df_scaled.var()"
   ]
  },
  {
   "cell_type": "markdown",
   "metadata": {},
   "source": [
    "## Feature Engineering"
   ]
  },
  {
   "cell_type": "markdown",
   "metadata": {},
   "source": [
    "### Categorical data\n",
    "\n",
    "In this section categorical data is encoded to numerical values."
   ]
  },
  {
   "cell_type": "code",
   "execution_count": 37,
   "metadata": {},
   "outputs": [
    {
     "data": {
      "text/plain": [
       "(6166948, 17)"
      ]
     },
     "execution_count": 37,
     "metadata": {},
     "output_type": "execute_result"
    }
   ],
   "source": [
    "# Since NaN as a label have no meaning, rows with NaN in the \"Estado\" columns are dropped\n",
    "df_scaled = df_scaled.dropna(subset=['Estado'])\n",
    "df_scaled.shape"
   ]
  },
  {
   "cell_type": "code",
   "execution_count": 38,
   "metadata": {},
   "outputs": [
    {
     "data": {
      "text/plain": [
       "Index(['fecha reporte web', 'Fecha de notificación', 'Sexo',\n",
       "       'Tipo de contagio', 'Ubicación del caso', 'Estado', 'Recuperado',\n",
       "       'Fecha de inicio de síntomas', 'Fecha de diagnóstico',\n",
       "       'Fecha de recuperación', 'Tipo de recuperación'],\n",
       "      dtype='object')"
      ]
     },
     "execution_count": 38,
     "metadata": {},
     "output_type": "execute_result"
    }
   ],
   "source": [
    "df_cat = df_scaled.drop(['ID de caso', 'Código DIVIPOLA departamento', 'Código DIVIPOLA municipio', 'Edad', 'Unidad de medida de edad', 'Pertenencia étnica'], axis=1)\n",
    "df_cat.columns"
   ]
  },
  {
   "cell_type": "code",
   "execution_count": 39,
   "metadata": {},
   "outputs": [
    {
     "data": {
      "text/plain": [
       "array([1, 0])"
      ]
     },
     "execution_count": 39,
     "metadata": {},
     "output_type": "execute_result"
    }
   ],
   "source": [
    "from sklearn.preprocessing import LabelEncoder\n",
    "\n",
    "le = LabelEncoder()\n",
    "\n",
    "df_scaled['Sexo'] = le.fit_transform(df_scaled.Sexo)\n",
    "\n",
    "df_scaled.Sexo.unique()"
   ]
  },
  {
   "cell_type": "code",
   "execution_count": 40,
   "metadata": {},
   "outputs": [
    {
     "data": {
      "text/plain": [
       "fecha reporte web                 int32\n",
       "ID de caso                      float64\n",
       "Fecha de notificación             int32\n",
       "Código DIVIPOLA departamento    float64\n",
       "Código DIVIPOLA municipio       float64\n",
       "Edad                            float64\n",
       "Unidad de medida de edad        float64\n",
       "Sexo                              int64\n",
       "Tipo de contagio                  int32\n",
       "Ubicación del caso                int32\n",
       "Estado                            int32\n",
       "Recuperado                        int32\n",
       "Fecha de inicio de síntomas       int32\n",
       "Fecha de diagnóstico              int32\n",
       "Fecha de recuperación             int32\n",
       "Tipo de recuperación              int32\n",
       "Pertenencia étnica              float64\n",
       "dtype: object"
      ]
     },
     "execution_count": 40,
     "metadata": {},
     "output_type": "execute_result"
    }
   ],
   "source": [
    "for col in df_cat.columns:\n",
    "    if df_scaled[col].isnull().any():\n",
    "        df_scaled[col].fillna(value=\"None Given\", inplace=True)\n",
    "    \n",
    "    df_scaled[col] = le.fit_transform(df_scaled[col])\n",
    "\n",
    "df_scaled.dtypes       "
   ]
  },
  {
   "cell_type": "markdown",
   "metadata": {},
   "source": [
    "## Dates"
   ]
  },
  {
   "cell_type": "code",
   "execution_count": 41,
   "metadata": {},
   "outputs": [
    {
     "data": {
      "text/plain": [
       "fecha reporte web                 int32\n",
       "ID de caso                      float64\n",
       "Fecha de notificación             int32\n",
       "Código DIVIPOLA departamento    float64\n",
       "Código DIVIPOLA municipio       float64\n",
       "Edad                            float64\n",
       "Unidad de medida de edad        float64\n",
       "Sexo                              int64\n",
       "Tipo de contagio                  int32\n",
       "Ubicación del caso                int32\n",
       "Estado                            int32\n",
       "Recuperado                        int32\n",
       "Fecha de inicio de síntomas       int32\n",
       "Fecha de diagnóstico              int32\n",
       "Fecha de recuperación             int32\n",
       "Tipo de recuperación              int32\n",
       "Pertenencia étnica              float64\n",
       "dtype: object"
      ]
     },
     "execution_count": 41,
     "metadata": {},
     "output_type": "execute_result"
    }
   ],
   "source": [
    "df_scaled.dtypes"
   ]
  },
  {
   "cell_type": "code",
   "execution_count": 42,
   "metadata": {},
   "outputs": [
    {
     "data": {
      "text/plain": [
       "Index(['ID de caso', 'Código DIVIPOLA departamento',\n",
       "       'Código DIVIPOLA municipio', 'Edad', 'Unidad de medida de edad', 'Sexo',\n",
       "       'Tipo de contagio', 'Ubicación del caso', 'Estado', 'Recuperado',\n",
       "       'Tipo de recuperación', 'Pertenencia étnica'],\n",
       "      dtype='object')"
      ]
     },
     "execution_count": 42,
     "metadata": {},
     "output_type": "execute_result"
    }
   ],
   "source": [
    "df_scaled = df_scaled.drop(['fecha reporte web', 'Fecha de notificación', 'Fecha de inicio de síntomas', 'Fecha de diagnóstico', 'Fecha de recuperación'], axis=1)\n",
    "df_scaled.columns"
   ]
  },
  {
   "cell_type": "markdown",
   "metadata": {},
   "source": [
    "## Dimensionality Reduction"
   ]
  },
  {
   "cell_type": "markdown",
   "metadata": {},
   "source": [
    "### PCA\n",
    "\n"
   ]
  },
  {
   "cell_type": "code",
   "execution_count": 43,
   "metadata": {},
   "outputs": [
    {
     "data": {
      "text/plain": [
       "ID de caso                      False\n",
       "Código DIVIPOLA departamento    False\n",
       "Código DIVIPOLA municipio       False\n",
       "Edad                            False\n",
       "Unidad de medida de edad        False\n",
       "Sexo                            False\n",
       "Tipo de contagio                False\n",
       "Ubicación del caso              False\n",
       "Estado                          False\n",
       "Recuperado                      False\n",
       "Tipo de recuperación            False\n",
       "Pertenencia étnica               True\n",
       "dtype: bool"
      ]
     },
     "execution_count": 43,
     "metadata": {},
     "output_type": "execute_result"
    }
   ],
   "source": [
    "df_scaled.isnull().any()"
   ]
  },
  {
   "cell_type": "code",
   "execution_count": 44,
   "metadata": {},
   "outputs": [],
   "source": [
    "df_scaled['Pertenencia étnica'].fillna(\n",
    "    df_scaled['Pertenencia étnica'].mean(),\n",
    "    inplace=True   \n",
    ")"
   ]
  },
  {
   "cell_type": "code",
   "execution_count": 45,
   "metadata": {},
   "outputs": [],
   "source": [
    "X = df_scaled.drop('Estado', axis = 1)\n",
    "y = df_scaled[['Estado']]"
   ]
  },
  {
   "cell_type": "code",
   "execution_count": 57,
   "metadata": {},
   "outputs": [
    {
     "data": {
      "text/plain": [
       "(6166948, 5)"
      ]
     },
     "execution_count": 57,
     "metadata": {},
     "output_type": "execute_result"
    }
   ],
   "source": [
    "from sklearn.pipeline import Pipeline\n",
    "from sklearn.decomposition import PCA\n",
    "\n",
    "pipe = Pipeline(\n",
    "    [('scaler', StandardScaler()),\n",
    "                 ('reducer', PCA(n_components=5, random_state = 42))]\n",
    ")\n",
    "\n",
    "df_pca = pipe.fit_transform(X)\n",
    "\n",
    "df_pca.shape"
   ]
  },
  {
   "cell_type": "markdown",
   "metadata": {},
   "source": [
    "# Traning Models for prediction"
   ]
  },
  {
   "cell_type": "markdown",
   "metadata": {},
   "source": [
    "Due to limitations in the computational power, a small sample with equally distributed labels is used to train and evaluate the models. Hence, a 925,043 entries version of the data set was used with 0.33 of the data used for testing and 67% to training. Two models where selected as candidates for evaluation: A Support Vector Machine and a Logistic Regression, given their good performance in various prediction contexts. Both models are trained using cross validation and grid search in order to optimize parameter selection."
   ]
  },
  {
   "cell_type": "code",
   "execution_count": 58,
   "metadata": {},
   "outputs": [],
   "source": [
    "from sklearn.model_selection import train_test_split\n",
    "\n",
    "X_train, X_test, y_train, y_test = train_test_split(df_pca, y, test_size = 0.15, random_state=42, stratify=y)"
   ]
  },
  {
   "cell_type": "code",
   "execution_count": 59,
   "metadata": {},
   "outputs": [],
   "source": [
    "X_train, X_test, y_train, y_test = train_test_split(X_test, y_test, test_size = 0.33, random_state=42, stratify=y_test)"
   ]
  },
  {
   "cell_type": "code",
   "execution_count": 60,
   "metadata": {},
   "outputs": [
    {
     "data": {
      "text/plain": [
       "((305265, 5), (305265, 1), (619778, 5), (619778, 1))"
      ]
     },
     "execution_count": 60,
     "metadata": {},
     "output_type": "execute_result"
    }
   ],
   "source": [
    "X_test.shape, y_test.shape, X_train.shape, y_train.shape"
   ]
  },
  {
   "cell_type": "markdown",
   "metadata": {},
   "source": [
    "## SVM"
   ]
  },
  {
   "cell_type": "code",
   "execution_count": 61,
   "metadata": {},
   "outputs": [
    {
     "data": {
      "text/plain": [
       "GridSearchCV(estimator=SVC(random_state=1234), n_jobs=-1,\n",
       "             param_grid=[{'C': [1, 5, 10],\n",
       "                          'gamma': [0.1, 0.01, 0.0001, 1e-05]}])"
      ]
     },
     "execution_count": 61,
     "metadata": {},
     "output_type": "execute_result"
    }
   ],
   "source": [
    "from sklearn.svm import SVC\n",
    "from sklearn.model_selection import GridSearchCV\n",
    "\n",
    "c_vals=[1, 5, 10] \n",
    "gamma_vals=[0.1, 0.01, 0.0001, 0.00001]\n",
    "param_grid = [{'C': c_vals, 'gamma': gamma_vals}]\n",
    "\n",
    "svm = GridSearchCV(SVC(random_state=1234), param_grid, n_jobs=-1)\n",
    "svm.fit(X_train, y_train)\n",
    "\n",
    "# svm.score(X_test, y_test)\n"
   ]
  },
  {
   "cell_type": "code",
   "execution_count": 63,
   "metadata": {},
   "outputs": [],
   "source": [
    "from sklearn.metrics import precision_recall_fscore_support\n",
    "\n",
    "preds = svm.predict(X_test)\n",
    "\n",
    "aca,recall, f1_score, support = precision_recall_fscore_support(y_test, preds, average='macro',zero_division=0)\n",
    "\n",
    "print(aca,recall, f1_score, support)"
   ]
  },
  {
   "cell_type": "code",
   "execution_count": 64,
   "metadata": {},
   "outputs": [
    {
     "name": "stdout",
     "output_type": "stream",
     "text": [
      "0.9999631647186281 0.9944084473242141 0.9971545950344514 None\n"
     ]
    }
   ],
   "source": [
    "print(aca,recall, f1_score, support)"
   ]
  },
  {
   "cell_type": "markdown",
   "metadata": {},
   "source": [
    "## Logistic Regression"
   ]
  },
  {
   "cell_type": "code",
   "execution_count": 67,
   "metadata": {},
   "outputs": [
    {
     "data": {
      "text/plain": [
       "GridSearchCV(estimator=LogisticRegression(random_state=1234), n_jobs=-1,\n",
       "             param_grid=[{'C': [0.001, 0.01, 0.1, 1, 10, 100, 1000],\n",
       "                          'penalty': ['l1', 'l2']}])"
      ]
     },
     "execution_count": 67,
     "metadata": {},
     "output_type": "execute_result"
    }
   ],
   "source": [
    "from sklearn.linear_model import LogisticRegression\n",
    "\n",
    "lr = LogisticRegression()\n",
    "c_valslr = [0.001, 0.01, 0.1, 1, 10, 100, 1000]  \n",
    "pentalty = ['l1','l2']\n",
    "param_grid = [{'C': c_valslr, 'penalty': pentalty}]\n",
    "\n",
    "lg_r = GridSearchCV(LogisticRegression(random_state=1234), param_grid, n_jobs=-1)\n",
    "lg_r.fit(X_train, y_train)"
   ]
  },
  {
   "cell_type": "code",
   "execution_count": 68,
   "metadata": {},
   "outputs": [
    {
     "name": "stdout",
     "output_type": "stream",
     "text": [
      "0.7150867622847855 0.7232267022401229 0.7190846949058393 None\n"
     ]
    }
   ],
   "source": [
    "from sklearn.metrics import precision_recall_fscore_support\n",
    "\n",
    "preds = lg_r.predict(X_test)\n",
    "\n",
    "aca,recall, f1_score, support = precision_recall_fscore_support(y_test, preds, average='macro',zero_division=0)\n",
    "\n",
    "print(aca,recall, f1_score, support)\n"
   ]
  },
  {
   "cell_type": "markdown",
   "metadata": {},
   "source": [
    "## Model comparison"
   ]
  },
  {
   "cell_type": "markdown",
   "metadata": {},
   "source": [
    "Performance results in the test set are show bellow for each model:\n",
    "\n",
    "**Support Vector Machine**\n",
    "- Accuracy: 0.999\n",
    "- Recall: 0.994\n",
    "- f1-score: 0.997\n",
    "\n",
    "**Logistic Regression**\n",
    "- Accuracy: 0.715\n",
    "- Recall: 0.723\n",
    "- f1-score: 0.719\n",
    "\n",
    "Performance indicators show that SVM approach has more representational power and therefore, is more suitable for the prediction of the state of patients in the INS dataset. With more computational power, evaluation could have been performed over the complete data set and deep learning approaches could have been tested with proven good performance architectures.\n"
   ]
  },
  {
   "cell_type": "code",
   "execution_count": null,
   "metadata": {},
   "outputs": [],
   "source": []
  }
 ],
 "metadata": {
  "kernelspec": {
   "display_name": "Python 3.8.5 ('6.86x')",
   "language": "python",
   "name": "python3"
  },
  "language_info": {
   "codemirror_mode": {
    "name": "ipython",
    "version": 3
   },
   "file_extension": ".py",
   "mimetype": "text/x-python",
   "name": "python",
   "nbconvert_exporter": "python",
   "pygments_lexer": "ipython3",
   "version": "3.8.5"
  },
  "orig_nbformat": 4,
  "vscode": {
   "interpreter": {
    "hash": "1a5d135ed4a1b475b41bf6bb819d6647e36fa7b34ed7f8a72c5280955ee30ae9"
   }
  }
 },
 "nbformat": 4,
 "nbformat_minor": 2
}
